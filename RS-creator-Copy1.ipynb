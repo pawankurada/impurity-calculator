{
 "cells": [
  {
   "cell_type": "code",
   "execution_count": 1,
   "id": "695dd8a7",
   "metadata": {},
   "outputs": [],
   "source": [
    "import os\n",
    "import re\n",
    "from tqdm import tqdm\n",
    "from datetime import datetime\n",
    "import xlrd\n",
    "import xlutils.copy\n",
    "import xlwt\n",
    "from xlwt import Workbook\n",
    "from copy import deepcopy\n",
    "import glob\n",
    "\n",
    "import pandas as pd\n",
    "import numpy as np\n",
    "import camelot\n",
    "import tabula\n",
    "from pyexcel.cookbook import merge_all_to_a_book"
   ]
  },
  {
   "cell_type": "code",
   "execution_count": 2,
   "id": "55d23505",
   "metadata": {},
   "outputs": [],
   "source": [
    "def _getOutCell(outSheet, colIndex, rowIndex):\n",
    "    \"\"\" HACK: Extract the internal xlwt cell representation. \"\"\"\n",
    "    row = outSheet._Worksheet__rows.get(rowIndex)\n",
    "    if not row: return None\n",
    "\n",
    "    cell = row._Row__cells.get(colIndex)\n",
    "    return cell"
   ]
  },
  {
   "cell_type": "code",
   "execution_count": 3,
   "id": "dc880728",
   "metadata": {},
   "outputs": [],
   "source": [
    "def setOutCell(outSheet, col, row, value):\n",
    "    \"\"\" Change cell value without changing formatting. \"\"\"\n",
    "    # HACK to retain cell style.\n",
    "    previousCell = _getOutCell(outSheet, col, row)\n",
    "    # END HACK, PART I\n",
    "\n",
    "    outSheet.write(row, col, value)\n",
    "\n",
    "    # HACK, PART II\n",
    "    if previousCell:\n",
    "        newCell = _getOutCell(outSheet, col, row)\n",
    "        if newCell:\n",
    "            newCell.xf_idx = previousCell.xf_idx"
   ]
  },
  {
   "cell_type": "code",
   "execution_count": 4,
   "id": "d9a5482b",
   "metadata": {
    "scrolled": true
   },
   "outputs": [],
   "source": [
    "def calc_results (df_peak, compound, average_area, constant_1, constant_2, unit):\n",
    "    base_rrt = float(df_peak['Ret. Time'][df_peak['Name'].str.contains(compound, flags = re.IGNORECASE)].values.tolist()[0])\n",
    "    rrt_master = []\n",
    "    impurity_master = []\n",
    "    rrf_master = []\n",
    "    for index, row in df_peak.iterrows():\n",
    "        name =row[1]\n",
    "        if(name.lower() == compound.lower()):\n",
    "            impurity_master.append(0)\n",
    "            rrt_master.append(1)\n",
    "            rrf_master.append(0)\n",
    "            continue\n",
    "        if(name == np.nan or name == ''):\n",
    "            continue\n",
    "#             impurity_master.append(0)\n",
    "#             rrt_master.append(0)\n",
    "            \n",
    "        area = float(row[3])\n",
    "        rrf_cond_1 = df_rrf['Compound'].str.contains(compound, flags = re.IGNORECASE)\n",
    "        rrf_cond_2 = df_rrf['Impurity/Active Name'].str.contains(name, flags = re.IGNORECASE)\n",
    "        rrf = df_rrf['RRF'][rrf_cond_1 & rrf_cond_2].values.tolist()\n",
    "        rrt = float(row[2])\n",
    "        \n",
    "        if(not(rrf)):\n",
    "            print(\"ignoring {}\".format(name))\n",
    "            impurity_master.append(0)\n",
    "            rrt_res = round(rrt/base_rrt, ndigits=2)\n",
    "            rrt_master.append(rrt_res)\n",
    "            rrf_master.append(0)\n",
    "            continue\n",
    "            \n",
    "        rrf = float(rrf[0])\n",
    "        impurity = round((area/average_area) * constant_1 * constant_2 * (unit/rrf), ndigits=2)\n",
    "        rrt_res = round(rrt/base_rrt, ndigits=2)\n",
    "        impurity_master.append(impurity)\n",
    "        rrt_master.append(rrt_res)\n",
    "        rrf_master.append(rrf)\n",
    "\n",
    "    return impurity_master, rrt_master, rrf_master"
   ]
  },
  {
   "cell_type": "code",
   "execution_count": 5,
   "id": "bbbe0021",
   "metadata": {},
   "outputs": [],
   "source": [
    "def shift_row_to_top(df, index_to_shift):\n",
    "    idx = df.index.tolist()\n",
    "    idx.remove(index_to_shift)\n",
    "    df = df.reindex([index_to_shift] + idx)\n",
    "    return df"
   ]
  },
  {
   "cell_type": "code",
   "execution_count": 6,
   "id": "c1c45417",
   "metadata": {},
   "outputs": [],
   "source": [
    "def table_extratcor(tables, headers):\n",
    "    df_result_table =''\n",
    "    result_tables = []\n",
    "    for table in tables:\n",
    "        df_table = table.df\n",
    "        search = df_table.where(df_table==headers[0]).dropna(how='all').dropna(axis=1)\n",
    "        inx = list(search.index)\n",
    "        if(inx):\n",
    "            inx= inx[0]\n",
    "            new_header = df_table.iloc[inx]\n",
    "            new_start_inx = inx+1\n",
    "            df_table = df_table[new_start_inx:] \n",
    "            df_table.columns = new_header\n",
    "            df_table = df_table[headers]\n",
    "            result_tables.append(df_table)\n",
    "        else:\n",
    "            continue\n",
    "    df_result_table = pd.concat(result_tables, ignore_index=True)\n",
    "    return df_result_table"
   ]
  },
  {
   "cell_type": "code",
   "execution_count": 7,
   "id": "92c22526",
   "metadata": {},
   "outputs": [],
   "source": [
    "def fill_rs_sheet(output_sheet, df_area_table, df_peak_table, sample_input_list):\n",
    "    average_area = float(df_area_table[\"Area\"][df_area_table[\"Title\"] == \"Average\"].values.tolist()[0])\n",
    "    area_input = list(df_area_table['Area'])\n",
    "    \n",
    "    #poject name\n",
    "    setOutCell(output_sheet, 2, 3, '')\n",
    "    #Date\n",
    "    setOutCell(output_sheet, 2, 4, '')\n",
    "    #Method\n",
    "    setOutCell(output_sheet, 2, 5, '')\n",
    "    # WS ID No.\n",
    "    setOutCell(output_sheet, 1, 9, '')\n",
    "    # potency\n",
    "    setOutCell(output_sheet, 3, 9, input_list[-1])\n",
    "    # use before date\n",
    "    setOutCell(output_sheet, 5, 9, '')\n",
    "    # Average area\n",
    "    setOutCell(output_sheet, 7, 9, average_area)\n",
    "    # std_wt\n",
    "    setOutCell(output_sheet, 2, 10, input_list[0])\n",
    "    #  v1\n",
    "    setOutCell(output_sheet, 2, 11, input_list[1])\n",
    "    # v2\n",
    "    setOutCell(output_sheet, 4, 10, input_list[2])\n",
    "    #  v3\n",
    "    setOutCell(output_sheet, 4, 11, input_list[3])\n",
    "    #  v4\n",
    "    setOutCell(output_sheet, 6, 10,  input_list[4])\n",
    "    # v5\n",
    "    setOutCell(output_sheet, 6, 11, input_list[5])\n",
    "    # v6\n",
    "    setOutCell(output_sheet, 8, 10, input_list[6])\n",
    "    # v7\n",
    "    setOutCell(output_sheet, 8, 11, input_list[7])\n",
    "    # factor\n",
    "    setOutCell(output_sheet, 9, 10, input_list[8])\n",
    "    # factor\n",
    "    setOutCell(output_sheet, 9, 11, input_list[9])\n",
    "    # AR NO\n",
    "    setOutCell(output_sheet, 1, 14, '')\n",
    "    # Batch NO\n",
    "    setOutCell(output_sheet, 3, 14, '')\n",
    "    # Condition\n",
    "    setOutCell(output_sheet, 4, 14, '')\n",
    "    # Label Claim\n",
    "    setOutCell(output_sheet, 5, 14, sample_input_list[8])\n",
    "    # per unit\n",
    "    setOutCell(output_sheet, 7, 14, sample_input_list[9])\n",
    "    # sample_wt\n",
    "    setOutCell(output_sheet, 2, 15, sample_input_list[0])\n",
    "    #  v1\n",
    "    setOutCell(output_sheet, 2, 16, sample_input_list[1])\n",
    "    # v2\n",
    "    setOutCell(output_sheet, 4, 15, sample_input_list[2])\n",
    "    #  v3\n",
    "    setOutCell(output_sheet, 4, 16, sample_input_list[3])\n",
    "    #  v4\n",
    "    setOutCell(output_sheet, 6, 15, sample_input_list[4])\n",
    "    # v5\n",
    "    setOutCell(output_sheet, 6, 16, sample_input_list[5])\n",
    "    # v6\n",
    "    setOutCell(output_sheet, 8, 15, sample_input_list[6])\n",
    "    # v7\n",
    "    setOutCell(output_sheet, 8, 16, sample_input_list[7])\n",
    "#     areas\n",
    "    setOutCell(output_sheet, 12, 5, area_input[0])\n",
    "    setOutCell(output_sheet, 12, 6, area_input[1])\n",
    "    setOutCell(output_sheet, 12, 7, area_input[2])\n",
    "    setOutCell(output_sheet, 12, 8, area_input[3])\n",
    "    setOutCell(output_sheet, 12, 9, area_input[4])\n",
    "    setOutCell(output_sheet, 12, 10, area_input[5])\n",
    "    setOutCell(output_sheet, 12, 11, area_input[6])\n",
    "    setOutCell(output_sheet, 12, 12, area_input[7])\n",
    "    setOutCell(output_sheet, 12, 13, area_input[8])\n",
    "#   Impurity table  \n",
    "    table_row = 20\n",
    "    for index, row in df_peak_table.iterrows():\n",
    "        if(table_row > 60):\n",
    "            break\n",
    "        setOutCell(output_sheet, 1, table_row, row[0])\n",
    "        setOutCell(output_sheet, 2, table_row, row[1])\n",
    "        setOutCell(output_sheet, 3, table_row, row[2])\n",
    "        setOutCell(output_sheet, 4, table_row, row[3])\n",
    "        setOutCell(output_sheet, 5, table_row, row[4])\n",
    "        setOutCell(output_sheet, 6, table_row, row[5])\n",
    "        table_row +=1\n",
    "\n",
    "    sum_of_impurities = round(df_peak_table[\"% w/w\"].sum(), ndigits=2)\n",
    "    setOutCell(output_sheet, 6, 62, sum_of_impurities)\n"
   ]
  },
  {
   "cell_type": "code",
   "execution_count": 8,
   "id": "cf06234e",
   "metadata": {},
   "outputs": [],
   "source": [
    "def initiate_report_creation(compound, input_lits):\n",
    "    sample_wt = df_sample_prep['vials'][df_sample_prep[\"Compound\"].str.contains(compound, flags = re.IGNORECASE)].values.tolist()[0]\n",
    "    sample_v1 = df_sample_prep['v1'][df_sample_prep[\"Compound\"].str.contains(compound, flags = re.IGNORECASE)].values.tolist()[0]\n",
    "    sample_v2 = df_sample_prep['v2'][df_sample_prep[\"Compound\"].str.contains(compound, flags = re.IGNORECASE)].values.tolist()[0]\n",
    "    sample_v3 = df_sample_prep['v3'][df_sample_prep[\"Compound\"].str.contains(compound, flags = re.IGNORECASE)].values.tolist()[0]\n",
    "    sample_v4 = df_sample_prep['v4'][df_sample_prep[\"Compound\"].str.contains(compound, flags = re.IGNORECASE)].values.tolist()[0]\n",
    "    sample_v5 = df_sample_prep['v5'][df_sample_prep[\"Compound\"].str.contains(compound, flags = re.IGNORECASE)].values.tolist()[0]\n",
    "    sample_v6 = df_sample_prep['v6'][df_sample_prep[\"Compound\"].str.contains(compound, flags = re.IGNORECASE)].values.tolist()[0]\n",
    "    sample_v7 = df_sample_prep['v7'][df_sample_prep[\"Compound\"].str.contains(compound, flags = re.IGNORECASE)].values.tolist()[0]\n",
    "    label_claim = df_sample_prep['label claim'][df_sample_prep[\"Compound\"].str.contains(compound, flags = re.IGNORECASE)].values.tolist()[0]\n",
    "    unit = df_sample_prep['per unit'][df_sample_prep[\"Compound\"].str.contains(compound, flags = re.IGNORECASE)].values.tolist()[0]\n",
    "\n",
    "    constant_1 = (input_list[0]/input_list[1]) * (input_list[2]/input_list[3]) * (input_list[4]/input_list[5])*(input_list[6]/input_list[7]) * (input_list[8]/input_list[9])\n",
    "    constant_2 = (sample_v1/sample_wt) * (sample_v3/sample_v2) * (sample_v5/sample_v4) * (sample_v7/sample_v6) * (input_list[10]/label_claim)\n",
    "\n",
    "    # peak table extratcion\n",
    "    tables = camelot.read_pdf(chrom_input, pages= 'all',flavor='stream')\n",
    "    df_peak_table = table_extratcor(tables, chrom_headers)\n",
    "    inx_to_shift = df_peak_table[df_peak_table[\"Name\"].str.contains(compound, flags = re.IGNORECASE)].index[0]\n",
    "    df_peak_table = shift_row_to_top(df_peak_table, inx_to_shift)\n",
    "    cond_1 = df_peak_table[\"Name\"] == ''\n",
    "    cond_2 = df_peak_table[\"Name\"] == np.nan\n",
    "    inxs_to_remove = df_peak_table[cond_1 | cond_2].index\n",
    "    df_peak_table = df_peak_table.drop(inxs_to_remove)\n",
    "\n",
    "    # area table extraction\n",
    "    tables = camelot.read_pdf(area_input, pages= 'all',flavor='stream')\n",
    "    df_area_table = table_extratcor(tables, area_headers)\n",
    "    df_area_table = df_area_table[['Title', 'Area']]\n",
    "    average_area = float(df_area_table[\"Area\"][df_area_table[\"Title\"] == \"Average\"].values.tolist()[0])\n",
    "\n",
    "    # impurity calculation\n",
    "    impurities, rrts, rrfs = calc_results(df_peak_table, compound, average_area, constant_1, constant_2, unit)\n",
    "    df_peak_table['RRT'] = rrts\n",
    "    df_peak_table['RRF'] = rrfs\n",
    "    df_peak_table[\"% w/w\"] = impurities\n",
    "    df_peak_table = df_peak_table[['Name', 'Ret. Time','RRT', 'RRF', 'Area', '% w/w']]\n",
    "\n",
    "    # writing to output sheet\n",
    "    sample_input_list = [sample_wt, sample_v1, sample_v2, sample_v3, sample_v4, sample_v5, sample_v6, sample_v7, label_claim, unit]\n",
    "    fill_rs_sheet(rs_template_sheet, df_area_table, df_peak_table, sample_input_list)\n",
    "\n",
    "    "
   ]
  },
  {
   "cell_type": "code",
   "execution_count": null,
   "id": "09869d94",
   "metadata": {},
   "outputs": [],
   "source": [
    "# Bumetanide\n",
    "# Acyclovir\n",
    "# Famotidine\n",
    "# ketorolacTromethamine\n",
    "# LabetalolHCl\n",
    "# input_list = [20.48,20,1,100,5,20,1,1,1,1,99.0]\n",
    "\n",
    "# compound = input(\"Enter the compund name [As mentioned in the chromatogram] \")\n",
    "compound = 'Acyclovir'\n",
    "input_list = [50.43,100,5,50,5,50,1,1,1,1,94.4]\n",
    "# input data sources\n",
    "df_rrf = pd.read_excel(os.path.join(os.getcwd(), 'data', 'Templates', 'RRF-template.xlsx'))\n",
    "df_sample_prep = pd.read_excel(os.path.join(os.getcwd(), 'data', 'Templates', 'Sample Preparation.xlsx'))\n",
    "chrom_input = os.path.join(os.getcwd(), \"data\", \"chromatograms\", \"{}-chromatogram.pdf\".format(compound))\n",
    "area_input = os.path.join(os.getcwd(), \"data\", \"Areas\", \"{}-areas.pdf\".format(compound))\n",
    "\n",
    "# input_list = [0]*11\n",
    "# input_list[0] = float(input(\"Enter the Weight taken \"))\n",
    "# input_list[1] = float(input(\"Enter the standard preparation v1 \")) \n",
    "# input_list[2] = float(input(\"Enter the standard preparation v2 \")) \n",
    "# input_list[3] = float(input(\"Enter the standard preparation v3 \")) \n",
    "# input_list[4] = float(input(\"Enter the standard preparation v4 \")) \n",
    "# input_list[5] = float(input(\"Enter the standard preparation v5 \")) \n",
    "# input_list[6] = float(input(\"Enter the standard preparation v6 \")) \n",
    "# input_list[7] = float(input(\"Enter the standard preparation v7 \")) \n",
    "# input_list[8] = float(input(\"Enter the standard preparation factor 1 \")) \n",
    "# input_list[9] = float(input(\"Enter the standard preparation factor 2 \")) \n",
    "# input_list[10] = float(input(\"Enter the standard preparation Potency \")) \n",
    " \n",
    "\n",
    "chrom_headers = ['Peak#','Name','Ret. Time','Area','Area%','RRT']\n",
    "area_headers = ['Title', 'Ret. Time', 'Area', 'Area%', 'NTP', 'Tailing Factor']\n",
    "\n",
    "\n",
    "\n",
    "# Output sheet\n",
    "rs_template_input = xlrd.open_workbook(os.path.join(os.getcwd(), \"data\", \"Templates\",'RS-template.xls'), formatting_info=True)\n",
    "rs_template = xlutils.copy.copy(rs_template_input)\n",
    "rs_template_sheet = rs_template.get_sheet(0)\n",
    "\n",
    "initiate_report_creation(compound, input_list)\n",
    "rs_template.save(os.path.join(os.getcwd(), \"data\", 'output', '{}-RS.xls'.format(compound)))\n",
    "print(\"Report saved successfully, check Output folder.\")"
   ]
  },
  {
   "cell_type": "code",
   "execution_count": null,
   "id": "1e24e451",
   "metadata": {},
   "outputs": [],
   "source": [
    "headers = ['Name','Ret. Time','Area']\n",
    "headers = ['Area']"
   ]
  },
  {
   "cell_type": "code",
   "execution_count": null,
   "id": "e707f27e",
   "metadata": {},
   "outputs": [],
   "source": [
    "chrom_input = os.path.join(os.getcwd(), \"data\", \"chromatograms\", \"Famotidine-chromatogram.pdf\".format(compound))\n",
    "area_input = os.path.join(os.getcwd(), \"data\", \"areas\", \"Acyclovir-areas.pdf\".format(compound))\n",
    "tables = camelot.read_pdf(chrom_input, pages= 'all',flavor='stream')"
   ]
  },
  {
   "cell_type": "code",
   "execution_count": null,
   "id": "ded7a854",
   "metadata": {},
   "outputs": [],
   "source": [
    "df_result_table =''\n",
    "result_tables = []\n",
    "for table in tables:\n",
    "    df_table = table.df\n",
    "    search = df_table.where(df_table==headers[0]).dropna(how='all').dropna(axis=1)\n",
    "    inx = list(search.index)\n",
    "    if(inx):\n",
    "        inx= inx[0]\n",
    "        new_header = df_table.iloc[inx]\n",
    "        new_start_inx = inx+1\n",
    "        df_table = df_table[new_start_inx:] \n",
    "        df_table.columns = new_header\n",
    "        df_table = df_table[headers]\n",
    "        result_tables.append(df_table)\n",
    "    else:\n",
    "        continue\n",
    "df_result_table = pd.concat(result_tables, ignore_index=True)"
   ]
  },
  {
   "cell_type": "code",
   "execution_count": null,
   "id": "e6732d40",
   "metadata": {},
   "outputs": [],
   "source": [
    "df_result_table = df_result_table.drop_duplicates(keep='first')\n",
    "df_peak_table = df_result_table\n",
    "inx_to_shift = df_peak_table[df_peak_table[\"Name\"].str.contains(compound, flags = re.IGNORECASE)].index[0]\n",
    "df_peak_table = shift_row_to_top(df_peak_table, inx_to_shift)\n",
    "cond_1 = df_peak_table[\"Name\"] == ''\n",
    "cond_2 = df_peak_table[\"Name\"] == np.nan\n",
    "inxs_to_remove = df_peak_table[cond_1 | cond_2].index\n",
    "df_peak_table = df_peak_table.drop(inxs_to_remove)\n"
   ]
  },
  {
   "cell_type": "code",
   "execution_count": 157,
   "id": "e91b8e7a",
   "metadata": {},
   "outputs": [],
   "source": [
    "def check_transpose(df_table):\n",
    "    df_table_t = df_table.T\n",
    "    search = df_table_t.where(df_table_t==headers[1]).dropna(how='all').dropna(axis=1)\n",
    "    inx = list(search.index)\n",
    "    if(inx):\n",
    "        inx= inx[0]\n",
    "        new_header = df_table_t.iloc[inx]\n",
    "        if('Ret. Time' and 'Area' in list(new_header)):\n",
    "            if(inx == df_table_t.shape[0]-1):\n",
    "                return df_table.T.reindex(index=df_table_t.index[::-1]).reset_index()\n",
    "            else:\n",
    "                return df_table.T\n",
    "        else:\n",
    "            return df_table\n",
    "    else:\n",
    "        return df_table"
   ]
  },
  {
   "cell_type": "code",
   "execution_count": 143,
   "id": "d681c8a3",
   "metadata": {
    "scrolled": false
   },
   "outputs": [],
   "source": [
    "compound = 'Vancomycin-B'\n",
    "headers = ['Name','Ret. Time','Area']\n",
    "# headers = ['Area']\n",
    "chrom_input = os.path.join(os.getcwd(), \"data\", \"RS-area-norm\", '1043_006_40_75_6M_I_SPL_01.pdf')\n",
    "tables = camelot.read_pdf(chrom_input, pages= 'all')\n",
    "# tables = camelot.read_pdf(chrom_input, pages= 'all', flavour = 'stream')\n",
    "# df_peak_table = table_extratcor(tables, headers)\n",
    "# df_peak_table = df_peak_table.drop_duplicates(keep=\"first\")\n",
    "# base_rt = float(df_peak_table['Ret. Time'][df_peak_table[\"Name\"].str.contains(compound, flags = re.IGNORECASE)].values.tolist()[0])\n",
    "# compound_row = df_peak_table[df_peak_table[\"Name\"].str.contains(compound, flags = re.IGNORECASE)].index\n",
    "# df_peak_table = df_peak_table.drop(compound_row)\n",
    "# cond_1 = df_peak_table[\"Name\"] == ''\n",
    "# cond_2 = df_peak_table[\"Name\"] == np.nan\n",
    "# inxs_to_remove = df_peak_table[cond_1 | cond_2].index\n",
    "# df_peak_table = df_peak_table.drop(inxs_to_remove)"
   ]
  },
  {
   "cell_type": "code",
   "execution_count": 144,
   "id": "63e02e29",
   "metadata": {},
   "outputs": [
    {
     "name": "stdout",
     "output_type": "stream",
     "text": [
      "4\n"
     ]
    }
   ],
   "source": [
    "print(len(tables))"
   ]
  },
  {
   "cell_type": "code",
   "execution_count": 147,
   "id": "e5a939b1",
   "metadata": {},
   "outputs": [],
   "source": [
    "df_table = tables[0].df\n",
    "# df_table = tables[0].df.T.reindex(index=df_table.index[::-1])"
   ]
  },
  {
   "cell_type": "code",
   "execution_count": 158,
   "id": "0dee9ec7",
   "metadata": {},
   "outputs": [],
   "source": [
    "df_result_table =''\n",
    "result_tables = []\n",
    "for table in tables:\n",
    "    df_table = table.df\n",
    "    df_table = check_transpose(df_table)\n",
    "    search = df_table.where(df_table==headers[0]).dropna(how='all').dropna(axis=1)\n",
    "    inx = list(search.index)\n",
    "    if(inx):\n",
    "        inx= inx[0]\n",
    "        new_header = df_table.iloc[inx]\n",
    "        new_start_inx = inx+1\n",
    "        df_table = df_table[new_start_inx:]\n",
    "        df_table.columns = new_header\n",
    "        df_table = df_table[headers]\n",
    "        result_tables.append(df_table)\n",
    "    else:\n",
    "        continue\n",
    "try:\n",
    "    df_result_table = pd.concat(result_tables, ignore_index=True)\n",
    "except ValueError as ve:\n",
    "    print(\"No tables/values found in this file\\n\")"
   ]
  },
  {
   "cell_type": "code",
   "execution_count": 159,
   "id": "16ee7e30",
   "metadata": {},
   "outputs": [
    {
     "data": {
      "text/html": [
       "<div>\n",
       "<style scoped>\n",
       "    .dataframe tbody tr th:only-of-type {\n",
       "        vertical-align: middle;\n",
       "    }\n",
       "\n",
       "    .dataframe tbody tr th {\n",
       "        vertical-align: top;\n",
       "    }\n",
       "\n",
       "    .dataframe thead th {\n",
       "        text-align: right;\n",
       "    }\n",
       "</style>\n",
       "<table border=\"1\" class=\"dataframe\">\n",
       "  <thead>\n",
       "    <tr style=\"text-align: right;\">\n",
       "      <th></th>\n",
       "      <th>Name</th>\n",
       "      <th>Ret. Time</th>\n",
       "      <th>Area</th>\n",
       "    </tr>\n",
       "  </thead>\n",
       "  <tbody>\n",
       "    <tr>\n",
       "      <th>0</th>\n",
       "      <td>Unknown</td>\n",
       "      <td>2.56</td>\n",
       "      <td>843</td>\n",
       "    </tr>\n",
       "    <tr>\n",
       "      <th>1</th>\n",
       "      <td>Unknown</td>\n",
       "      <td>2.69</td>\n",
       "      <td>24187</td>\n",
       "    </tr>\n",
       "    <tr>\n",
       "      <th>2</th>\n",
       "      <td>Unknown</td>\n",
       "      <td>2.85</td>\n",
       "      <td>2436</td>\n",
       "    </tr>\n",
       "    <tr>\n",
       "      <th>3</th>\n",
       "      <td>Unknown</td>\n",
       "      <td>2.93</td>\n",
       "      <td>6133</td>\n",
       "    </tr>\n",
       "    <tr>\n",
       "      <th>4</th>\n",
       "      <td>Unknown</td>\n",
       "      <td>3.00</td>\n",
       "      <td>2109</td>\n",
       "    </tr>\n",
       "    <tr>\n",
       "      <th>...</th>\n",
       "      <td>...</td>\n",
       "      <td>...</td>\n",
       "      <td>...</td>\n",
       "    </tr>\n",
       "    <tr>\n",
       "      <th>68</th>\n",
       "      <td>Unknown</td>\n",
       "      <td>31.41</td>\n",
       "      <td>2722</td>\n",
       "    </tr>\n",
       "    <tr>\n",
       "      <th>69</th>\n",
       "      <td>Unknown</td>\n",
       "      <td>31.80</td>\n",
       "      <td>530</td>\n",
       "    </tr>\n",
       "    <tr>\n",
       "      <th>70</th>\n",
       "      <td>Unknown</td>\n",
       "      <td>31.98</td>\n",
       "      <td>905</td>\n",
       "    </tr>\n",
       "    <tr>\n",
       "      <th>71</th>\n",
       "      <td>Unknown</td>\n",
       "      <td>32.15</td>\n",
       "      <td>1407</td>\n",
       "    </tr>\n",
       "    <tr>\n",
       "      <th>72</th>\n",
       "      <td></td>\n",
       "      <td></td>\n",
       "      <td>54002310</td>\n",
       "    </tr>\n",
       "  </tbody>\n",
       "</table>\n",
       "<p>73 rows × 3 columns</p>\n",
       "</div>"
      ],
      "text/plain": [
       "0      Name Ret. Time      Area\n",
       "0   Unknown      2.56       843\n",
       "1   Unknown      2.69     24187\n",
       "2   Unknown      2.85      2436\n",
       "3   Unknown      2.93      6133\n",
       "4   Unknown      3.00      2109\n",
       "..      ...       ...       ...\n",
       "68  Unknown     31.41      2722\n",
       "69  Unknown     31.80       530\n",
       "70  Unknown     31.98       905\n",
       "71  Unknown     32.15      1407\n",
       "72                     54002310\n",
       "\n",
       "[73 rows x 3 columns]"
      ]
     },
     "execution_count": 159,
     "metadata": {},
     "output_type": "execute_result"
    }
   ],
   "source": [
    "df_result_table"
   ]
  },
  {
   "cell_type": "code",
   "execution_count": 49,
   "id": "501efe42",
   "metadata": {},
   "outputs": [],
   "source": [
    "compound = 'Ketorolac Tromethamine'\n",
    "area_inputs = glob.glob(os.path.join(os.getcwd(), \"data\", \"Imp-vs-imp\", compound, '1008-019A_40°C 75% RH 1.5M(U)'))\n",
    "area_headers = ['Name', 'Area']\n",
    "area_tables =  []\n",
    "for area_input in area_inputs:\n",
    "    tables = camelot.read_pdf(area_input, pages= 'all',flavor='stream')\n",
    "    df_area = table_extratcor(tables, area_headers)\n",
    "    df_area = df_area[['Name','Area']]\n",
    "    area_tables.append(df_area)\n",
    "df_area_table = pd.concat(area_tables)"
   ]
  },
  {
   "cell_type": "code",
   "execution_count": 58,
   "id": "cef827cb",
   "metadata": {},
   "outputs": [],
   "source": [
    "df_area_table = df_area_table.drop(df_area_table[df_area_table['Name'] == ''].index)\n",
    "df_area_table[\"Area\"] = df_area_table[\"Area\"].astype(float)"
   ]
  },
  {
   "cell_type": "code",
   "execution_count": 69,
   "id": "dee3abe4",
   "metadata": {},
   "outputs": [
    {
     "data": {
      "text/plain": [
       "17340"
      ]
     },
     "execution_count": 69,
     "metadata": {},
     "output_type": "execute_result"
    }
   ],
   "source": [
    "round(df_area_table['Area'][df_area_table['Name'] == 'Related Compound-A'].mean())"
   ]
  },
  {
   "cell_type": "code",
   "execution_count": 70,
   "id": "32dc603a",
   "metadata": {},
   "outputs": [
    {
     "data": {
      "text/plain": [
       "{'Ketorolac Tromethamine',\n",
       " 'Related Compound-A',\n",
       " 'Related Compound-B',\n",
       " 'Related Compound-C',\n",
       " 'Related Compound-D'}"
      ]
     },
     "execution_count": 70,
     "metadata": {},
     "output_type": "execute_result"
    }
   ],
   "source": [
    "set(df_area_table['Name'])"
   ]
  },
  {
   "cell_type": "code",
   "execution_count": 18,
   "id": "90464869",
   "metadata": {},
   "outputs": [],
   "source": [
    "compound = 'Ropivacaine HCl'\n",
    "a_date = '04.01.22'\n",
    "year = year = str(datetime.today().year)\n",
    "area_input = os.path.join(os.getcwd(), \"data\", year, compound, \"RS\", a_date, \"{}-areas.pdf\".format(compound))\n",
    "chrom_inputs = glob.glob(os.path.join(os.getcwd(), \"data\", year, compound, \"RS\", a_date, '*.pdf'))\n",
    "chrom_inputs.remove(area_input)"
   ]
  },
  {
   "cell_type": "code",
   "execution_count": 19,
   "id": "7e3b0e1c",
   "metadata": {},
   "outputs": [
    {
     "data": {
      "text/plain": [
       "'D:\\\\projects\\\\document-processing\\\\Impurity-calculator\\\\data\\\\2022\\\\Ropivacaine HCl\\\\RS\\\\04.01.22\\\\Ropivacaine HCl-areas.pdf'"
      ]
     },
     "execution_count": 19,
     "metadata": {},
     "output_type": "execute_result"
    }
   ],
   "source": [
    "area_input"
   ]
  },
  {
   "cell_type": "code",
   "execution_count": 20,
   "id": "29ad7ac6",
   "metadata": {},
   "outputs": [
    {
     "data": {
      "text/plain": [
       "['D:\\\\projects\\\\document-processing\\\\Impurity-calculator\\\\data\\\\2022\\\\Ropivacaine HCl\\\\RS\\\\04.01.22\\\\10030-010A 40°C-75%RH_2M(I)_ARR_1030_21_089.pdf',\n",
       " 'D:\\\\projects\\\\document-processing\\\\Impurity-calculator\\\\data\\\\2022\\\\Ropivacaine HCl\\\\RS\\\\04.01.22\\\\10030-010B 40°C-75%RH_2M(I)_ARR_1030_21_090.pdf',\n",
       " 'D:\\\\projects\\\\document-processing\\\\Impurity-calculator\\\\data\\\\2022\\\\Ropivacaine HCl\\\\RS\\\\04.01.22\\\\10030-011A 40°C-75%RH_2M(I)_ARR_1030_21_091.pdf',\n",
       " 'D:\\\\projects\\\\document-processing\\\\Impurity-calculator\\\\data\\\\2022\\\\Ropivacaine HCl\\\\RS\\\\04.01.22\\\\10030-011B 40°C-75%RH_2M(I)_ARR_1030_21_092.pdf',\n",
       " 'D:\\\\projects\\\\document-processing\\\\Impurity-calculator\\\\data\\\\2022\\\\Ropivacaine HCl\\\\RS\\\\04.01.22\\\\10030-013A 40°C-75%RH_1.5M(I)_ARR_1031_21_093.pdf',\n",
       " 'D:\\\\projects\\\\document-processing\\\\Impurity-calculator\\\\data\\\\2022\\\\Ropivacaine HCl\\\\RS\\\\04.01.22\\\\10030-013B 40°C-75%RH_1.5M(I)_ARR_1031_21_094.pdf',\n",
       " 'D:\\\\projects\\\\document-processing\\\\Impurity-calculator\\\\data\\\\2022\\\\Ropivacaine HCl\\\\RS\\\\04.01.22\\\\1030-010BP_40°C 75%RH_1.5M_(U).pdf',\n",
       " 'D:\\\\projects\\\\document-processing\\\\Impurity-calculator\\\\data\\\\2022\\\\Ropivacaine HCl\\\\RS\\\\04.01.22\\\\1030-014A 40°C-75%RH_1.5M(I)_ARR_1030_21_095.pdf',\n",
       " 'D:\\\\projects\\\\document-processing\\\\Impurity-calculator\\\\data\\\\2022\\\\Ropivacaine HCl\\\\RS\\\\04.01.22\\\\1030-014B 40°C-75%RH_1.5M(I)_ARR_1030_21_096.pdf',\n",
       " 'D:\\\\projects\\\\document-processing\\\\Impurity-calculator\\\\data\\\\2022\\\\Ropivacaine HCl\\\\RS\\\\04.01.22\\\\1030-015A 40°C-75%RH_1.5M(I)_ARR_1030_21_097.pdf',\n",
       " 'D:\\\\projects\\\\document-processing\\\\Impurity-calculator\\\\data\\\\2022\\\\Ropivacaine HCl\\\\RS\\\\04.01.22\\\\1030-015B 40°C-75%RH_1.5M(I)_ARR_1030_21_098.pdf',\n",
       " 'D:\\\\projects\\\\document-processing\\\\Impurity-calculator\\\\data\\\\2022\\\\Ropivacaine HCl\\\\RS\\\\04.01.22\\\\1030-016A 40°C-75%RH_1.5M(I)_ARR_1030_21_115.pdf',\n",
       " 'D:\\\\projects\\\\document-processing\\\\Impurity-calculator\\\\data\\\\2022\\\\Ropivacaine HCl\\\\RS\\\\04.01.22\\\\1030-016B 40°C-75%RH_1.5M(I)_ARR_1030_21_116.pdf',\n",
       " 'D:\\\\projects\\\\document-processing\\\\Impurity-calculator\\\\data\\\\2022\\\\Ropivacaine HCl\\\\RS\\\\04.01.22\\\\1030-016C 40°C-75%RH_1.5M(I)_ARR_1030_21_117.pdf',\n",
       " 'D:\\\\projects\\\\document-processing\\\\Impurity-calculator\\\\data\\\\2022\\\\Ropivacaine HCl\\\\RS\\\\04.01.22\\\\1031-001A 25°C-60%RH_3M (I)_ARR_1031_21_064.pdf',\n",
       " 'D:\\\\projects\\\\document-processing\\\\Impurity-calculator\\\\data\\\\2022\\\\Ropivacaine HCl\\\\RS\\\\04.01.22\\\\1031-001A 25°C-60%RH_3M (U)_ARR_1031_21_063.pdf',\n",
       " 'D:\\\\projects\\\\document-processing\\\\Impurity-calculator\\\\data\\\\2022\\\\Ropivacaine HCl\\\\RS\\\\04.01.22\\\\1031-001A 40°C-75%RH_3M (I)_ARR_1031_21_066.pdf',\n",
       " 'D:\\\\projects\\\\document-processing\\\\Impurity-calculator\\\\data\\\\2022\\\\Ropivacaine HCl\\\\RS\\\\04.01.22\\\\1031-001A 40°C-75%RH_3M (U)_ARR_1031_21_065.pdf',\n",
       " 'D:\\\\projects\\\\document-processing\\\\Impurity-calculator\\\\data\\\\2022\\\\Ropivacaine HCl\\\\RS\\\\04.01.22\\\\1031-001B 25°C-60%RH_3M (I)_ARR_1031_21_068.pdf',\n",
       " 'D:\\\\projects\\\\document-processing\\\\Impurity-calculator\\\\data\\\\2022\\\\Ropivacaine HCl\\\\RS\\\\04.01.22\\\\1031-001B 25°C-60%RH_3M (U)_ARR_1031_21_067.pdf',\n",
       " 'D:\\\\projects\\\\document-processing\\\\Impurity-calculator\\\\data\\\\2022\\\\Ropivacaine HCl\\\\RS\\\\04.01.22\\\\1031-001B 40°C-75%RH_3M (I)_ARR_1031_21_070.pdf',\n",
       " 'D:\\\\projects\\\\document-processing\\\\Impurity-calculator\\\\data\\\\2022\\\\Ropivacaine HCl\\\\RS\\\\04.01.22\\\\1031-001B 40°C-75%RH_3M (U)_ARR_1031_21_069.pdf',\n",
       " 'D:\\\\projects\\\\document-processing\\\\Impurity-calculator\\\\data\\\\2022\\\\Ropivacaine HCl\\\\RS\\\\04.01.22\\\\1031-002A 25°C-60%RH_3M (I)_ARR_1031_21_072.pdf',\n",
       " 'D:\\\\projects\\\\document-processing\\\\Impurity-calculator\\\\data\\\\2022\\\\Ropivacaine HCl\\\\RS\\\\04.01.22\\\\1031-002A 25°C-60%RH_3M (U)_ARR_1031_21_071.pdf',\n",
       " 'D:\\\\projects\\\\document-processing\\\\Impurity-calculator\\\\data\\\\2022\\\\Ropivacaine HCl\\\\RS\\\\04.01.22\\\\1031-002A 40°C-75%RH_3M (I)_ARR_1031_21_074.pdf',\n",
       " 'D:\\\\projects\\\\document-processing\\\\Impurity-calculator\\\\data\\\\2022\\\\Ropivacaine HCl\\\\RS\\\\04.01.22\\\\1031-002A 40°C-75%RH_3M (U)_ARR_1031_21_073.pdf',\n",
       " 'D:\\\\projects\\\\document-processing\\\\Impurity-calculator\\\\data\\\\2022\\\\Ropivacaine HCl\\\\RS\\\\04.01.22\\\\1031-002AP_40°C 75%RH_3M_(U).pdf',\n",
       " 'D:\\\\projects\\\\document-processing\\\\Impurity-calculator\\\\data\\\\2022\\\\Ropivacaine HCl\\\\RS\\\\04.01.22\\\\1031-002B 25°C-60%RH_3M (I)_ARR_1031_21_076.pdf',\n",
       " 'D:\\\\projects\\\\document-processing\\\\Impurity-calculator\\\\data\\\\2022\\\\Ropivacaine HCl\\\\RS\\\\04.01.22\\\\1031-002B 25°C-60%RH_3M (U)_ARR_1031_21_075.pdf',\n",
       " 'D:\\\\projects\\\\document-processing\\\\Impurity-calculator\\\\data\\\\2022\\\\Ropivacaine HCl\\\\RS\\\\04.01.22\\\\1031-002B 40°C-75%RH_3M (I)_ARR_1031_21_078.pdf',\n",
       " 'D:\\\\projects\\\\document-processing\\\\Impurity-calculator\\\\data\\\\2022\\\\Ropivacaine HCl\\\\RS\\\\04.01.22\\\\1031-002B 40°C-75%RH_3M (U)_ARR_1031_21_077.pdf',\n",
       " 'D:\\\\projects\\\\document-processing\\\\Impurity-calculator\\\\data\\\\2022\\\\Ropivacaine HCl\\\\RS\\\\04.01.22\\\\1031-003A 25°C-60%RH_3M (I)_ARR_1031_21_080.pdf',\n",
       " 'D:\\\\projects\\\\document-processing\\\\Impurity-calculator\\\\data\\\\2022\\\\Ropivacaine HCl\\\\RS\\\\04.01.22\\\\1031-003A 25°C-60%RH_3M (U)_ARR_1031_21_079.pdf',\n",
       " 'D:\\\\projects\\\\document-processing\\\\Impurity-calculator\\\\data\\\\2022\\\\Ropivacaine HCl\\\\RS\\\\04.01.22\\\\1031-003A 40°C-75%RH_3M (I)_ARR_1031_21_082.pdf',\n",
       " 'D:\\\\projects\\\\document-processing\\\\Impurity-calculator\\\\data\\\\2022\\\\Ropivacaine HCl\\\\RS\\\\04.01.22\\\\1031-003A 40°C-75%RH_3M (U)_ARR_1031_21_081.pdf',\n",
       " 'D:\\\\projects\\\\document-processing\\\\Impurity-calculator\\\\data\\\\2022\\\\Ropivacaine HCl\\\\RS\\\\04.01.22\\\\1033-003P_40°C 75%RH_3M_(U).pdf']"
      ]
     },
     "execution_count": 20,
     "metadata": {},
     "output_type": "execute_result"
    }
   ],
   "source": [
    "chrom_inputs"
   ]
  },
  {
   "cell_type": "code",
   "execution_count": 24,
   "id": "3e291f9b",
   "metadata": {},
   "outputs": [],
   "source": [
    "d = pd.DataFrame()"
   ]
  },
  {
   "cell_type": "code",
   "execution_count": null,
   "id": "b0cd08ba",
   "metadata": {},
   "outputs": [],
   "source": [
    "SELECT `referrals`.`id`, `referrals`.`doctor_officer_id`, `referrals`.`internal_doctor_id`, \n",
    "`referrals`.`referred_by_id`, `referrals`.`actual_internal_doctor_id`, `referrals`.`status`, \n",
    "`referrals`.`patient_name`, `referrals`.`country_id`, `referrals`.`patient_mobile`, `referrals`.`visit_date`,\n",
    "`referrals`.`actual_visit_date`, `referrals`.`yh_number`, `referrals`.`ip_number`, `referrals`.`referral_type`, \n",
    "`referrals`.`admitted_by_id`, `referrals`.`validated_by_id`, `referrals`.`valid`, `referrals`.`pic_1`, \n",
    "`referrals`.`pic_2`, `referrals`.`pic_3`, `referrals`.`pic_4`, `referrals`.`pic_5`, `referrals`.`executive_pic_1`,\n",
    "`referrals`.`executive_pic_2`, `referrals`.`executive_pic_3`, `referrals`.`executive_pic_4`, \n",
    "`referrals`.`executive_pic_5`, `referrals`.`admitted_at`, `referrals`.`created_at`, `referrals`.`updated_at`, \n",
    "`referrals`.`deleted_at`, `referrals`.`patient_location`, `referrals`.`he_remark`, `referrals`.`ppd_valid_remark`, \n",
    "`referrals`.`rejection_reason`, `referrals`.`ppd_invalid_remark`, `referrals`.`user_remark`, \n",
    "`locations`.`id` AS 'locations_id', `locations`.`name`, `locations`.`type`, `locations`.`address`, \n",
    "`locations`.`active`, `locations`.`referral`, `locations`.`lat`, `locations`.`lng`, `locations`.`created_by_id`, \n",
    "`locations`.`created_at` AS 'locations_created_at', `locations`.`updated_at` AS 'locations_updated_at',\n",
    "`locations`.`deleted_at` AS 'locations_deleted_at', `locations`.`locality`, `locations`.`city`, `locations`.`state`,\n",
    "`locations`.`country`, `locations`.`address_parts`, `doctorofficer`.`id` AS 'doctorofficer_id', \n",
    "`doctorofficer`.`company`, `doctorofficer`.`changed_company`, `doctorofficer`.`doctor_code`, \n",
    "`doctorofficer`.`changed_doctor_code`, `doctorofficer`.`turf`, `doctorofficer`.`changed_turf`, \n",
    "`doctorofficer`.`designation`, `doctorofficer`.`changed_designation`, `doctorofficer`.`specialization_id`, \n",
    "`doctorofficer`.`changed_specialization_id`, `doctorofficer`.`type` AS 'doctorofficer_type', \n",
    "`doctorofficer`.`name` AS 'doctorofficer_name', `doctorofficer`.`changed_name`, \n",
    "`doctorofficer`.`country_id` AS 'doctorofficer_country_id', `doctorofficer`.`changed_country_id`, \n",
    "`doctorofficer`.`mobile`, `doctorofficer`.`changed_mobile`, `doctorofficer`.`address` AS 'doctorofficer_address', \n",
    "`doctorofficer`.`locality` AS 'doctorofficer_locality', `doctorofficer`.`changed_locality`, \n",
    "`doctorofficer`.`city` AS 'doctorofficer_city', `doctorofficer`.`changed_city`, \n",
    "`doctorofficer`.`state` AS 'doctorofficer_state', `doctorofficer`.`changed_state`, \n",
    "`doctorofficer`.`country` AS 'doctorofficer_country', `doctorofficer`.`changed_country`, \n",
    "`doctorofficer`.`pincode`, `doctorofficer`.`changed_pincode`, `doctorofficer`.`changed_address`,\n",
    "`doctorofficer`.`address_parts` AS 'doctorofficer_address_parts', `doctorofficer`.`status` AS 'doctorofficer_status',\n",
    "`doctorofficer`.`active` AS 'doctorofficer_active', `doctorofficer`.`lat` AS 'doctorofficer_lat',\n",
    "`doctorofficer`.`changed_lat`, `doctorofficer`.`lng` AS 'doctorofficer_lng', `doctorofficer`.`changed_lng`, \n",
    "`doctorofficer`.`pic_1` AS 'doctorofficer_pic_1', `doctorofficer`.`changed_pic_1`,\n",
    "`doctorofficer`.`pic_2` AS 'doctorofficer_pic_2', `doctorofficer`.`changed_pic_2`, \n",
    "`doctorofficer`.`pic_3` AS 'doctorofficer_pic_3', `doctorofficer`.`changed_pic_3`, `doctorofficer`.`user_id`, \n",
    "`doctorofficer`.`approved_by_id`, `doctorofficer`.`approved_date`, `doctorofficer`.`changed_by_id`, \n",
    "`doctorofficer`.`changed_at`, `doctorofficer`.`created_at` AS 'doctorofficer_created_at', \n",
    "`doctorofficer`.`updated_at` AS 'doctorofficer_updated_at', `doctorofficer`.`deleted_at` AS 'doctorofficer_deleted_at', \n",
    "`categories`.`id` AS 'categories_id', `categories`.`location_id`, \n",
    "`categories`.`doctor_officer_id` AS 'categories_doctor_officer_id', `categories`.`category_id`, \n",
    "`categories`.`changed_category_id`, `categories`.`created_at` AS 'categories_created_at', \n",
    "`categories`.`updated_at` AS 'categories_updated_at', `categories`.`deleted_at` AS 'categories_deleted_at', \n",
    "`category`.`id` AS 'category_id_0', `category`.`name` AS 'category_name', `category`.`created_at` AS 'category_created_at', \n",
    "`category`.`updated_at` AS 'category_updated_at', `category`.`deleted_at` AS 'category_deleted_at' \n",
    "FROM `referrals` LEFT OUTER JOIN `referrals_reporting_locations` \n",
    "ON (`referrals_reporting_locations`.`referral_id` = `referrals`.`id`) \n",
    "LEFT OUTER JOIN `reporting_locations` AS 'locations' ON (`locations`.`id` = `referrals_reporting_locations`.`location_id`)\n",
    "LEFT OUTER JOIN `doctors_officers` AS 'doctorofficer' ON (`doctorofficer`.`id` = `referrals`.`doctor_officer_id`) \n",
    "LEFT OUTER JOIN `doctors_officers_categories` AS 'categories' ON (`categories`.`doctor_officer_id` = `doctorofficer`.`id`)\n",
    "LEFT OUTER JOIN `categories` AS 'category' ON (`category`.`id` = `categories`.`category_id`) \n",
    "WHERE ((`referrals`.`deleted_at` IS NULL) AND (`referrals`.`valid` = 't') AND (`referrals`.`status` = 'a') \n",
    "       AND (`referrals`.`created_at` >= '2021-12-25 18:30:00.000000') \n",
    "       AND (`referrals`.`created_at` <= '2022-01-25 18:30:00.000000') \n",
    "       AND (`categories`.`location_id` = `referrals_reporting_locations`.`location_id`) \n",
    "       AND (`doctorofficer`.`type` = 'd') AND (`doctorofficer`.`active` = 1))\n",
    "GROUP BY `referrals`.`id`"
   ]
  },
  {
   "cell_type": "code",
   "execution_count": 162,
   "id": "6e3b9800",
   "metadata": {},
   "outputs": [
    {
     "data": {
      "text/plain": [
       "2.4"
      ]
     },
     "execution_count": 162,
     "metadata": {},
     "output_type": "execute_result"
    }
   ],
   "source": [
    "round(1.39 + 1.01, ndigits=2)"
   ]
  },
  {
   "cell_type": "code",
   "execution_count": null,
   "id": "a7d465e8",
   "metadata": {},
   "outputs": [],
   "source": []
  }
 ],
 "metadata": {
  "kernelspec": {
   "display_name": "Python 3",
   "language": "python",
   "name": "python3"
  },
  "language_info": {
   "codemirror_mode": {
    "name": "ipython",
    "version": 3
   },
   "file_extension": ".py",
   "mimetype": "text/x-python",
   "name": "python",
   "nbconvert_exporter": "python",
   "pygments_lexer": "ipython3",
   "version": "3.8.8"
  }
 },
 "nbformat": 4,
 "nbformat_minor": 5
}
