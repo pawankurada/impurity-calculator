{
 "cells": [
  {
   "cell_type": "code",
   "execution_count": 20,
   "id": "695dd8a7",
   "metadata": {},
   "outputs": [],
   "source": [
    "import os\n",
    "import re\n",
    "from tqdm import tqdm\n",
    "from datetime import datetime\n",
    "import xlrd\n",
    "import xlutils.copy\n",
    "import xlwt\n",
    "from xlwt import Workbook\n",
    "from copy import deepcopy\n",
    "import glob\n",
    "\n",
    "import pandas as pd\n",
    "import numpy as np\n",
    "import camelot\n",
    "import tabula\n",
    "from pyexcel.cookbook import merge_all_to_a_book"
   ]
  },
  {
   "cell_type": "code",
   "execution_count": 10,
   "id": "55d23505",
   "metadata": {},
   "outputs": [],
   "source": [
    "def _getOutCell(outSheet, colIndex, rowIndex):\n",
    "    \"\"\" HACK: Extract the internal xlwt cell representation. \"\"\"\n",
    "    row = outSheet._Worksheet__rows.get(rowIndex)\n",
    "    if not row: return None\n",
    "\n",
    "    cell = row._Row__cells.get(colIndex)\n",
    "    return cell"
   ]
  },
  {
   "cell_type": "code",
   "execution_count": 11,
   "id": "dc880728",
   "metadata": {},
   "outputs": [],
   "source": [
    "def setOutCell(outSheet, col, row, value):\n",
    "    \"\"\" Change cell value without changing formatting. \"\"\"\n",
    "    # HACK to retain cell style.\n",
    "    previousCell = _getOutCell(outSheet, col, row)\n",
    "    # END HACK, PART I\n",
    "\n",
    "    outSheet.write(row, col, value)\n",
    "\n",
    "    # HACK, PART II\n",
    "    if previousCell:\n",
    "        newCell = _getOutCell(outSheet, col, row)\n",
    "        if newCell:\n",
    "            newCell.xf_idx = previousCell.xf_idx"
   ]
  },
  {
   "cell_type": "code",
   "execution_count": 12,
   "id": "d9a5482b",
   "metadata": {
    "scrolled": true
   },
   "outputs": [],
   "source": [
    "def calc_results (df_peak, compound, average_area, constant_1, constant_2, unit):\n",
    "    base_rrt = float(df_peak['Ret. Time'][df_peak['Name'].str.contains(compound, flags = re.IGNORECASE)].values.tolist()[0])\n",
    "    rrt_master = []\n",
    "    impurity_master = []\n",
    "    rrf_master = []\n",
    "    for index, row in df_peak.iterrows():\n",
    "        name =row[1]\n",
    "        if(name.lower() == compound.lower()):\n",
    "            impurity_master.append(0)\n",
    "            rrt_master.append(1)\n",
    "            rrf_master.append(0)\n",
    "            continue\n",
    "        if(name == np.nan or name == ''):\n",
    "            continue\n",
    "#             impurity_master.append(0)\n",
    "#             rrt_master.append(0)\n",
    "            \n",
    "        area = float(row[3])\n",
    "        rrf_cond_1 = df_rrf['Compound'].str.contains(compound, flags = re.IGNORECASE)\n",
    "        rrf_cond_2 = df_rrf['Impurity/Active Name'].str.contains(name, flags = re.IGNORECASE)\n",
    "        rrf = df_rrf['RRF'][rrf_cond_1 & rrf_cond_2].values.tolist()\n",
    "        rrt = float(row[2])\n",
    "        \n",
    "        if(not(rrf)):\n",
    "            print(\"ignoring {}\".format(name))\n",
    "            impurity_master.append(0)\n",
    "            rrt_res = round(rrt/base_rrt, ndigits=2)\n",
    "            rrt_master.append(rrt_res)\n",
    "            rrf_master.append(0)\n",
    "            continue\n",
    "            \n",
    "        rrf = float(rrf[0])\n",
    "        impurity = round((area/average_area) * constant_1 * constant_2 * (unit/rrf), ndigits=2)\n",
    "        rrt_res = round(rrt/base_rrt, ndigits=2)\n",
    "        impurity_master.append(impurity)\n",
    "        rrt_master.append(rrt_res)\n",
    "        rrf_master.append(rrf)\n",
    "\n",
    "    return impurity_master, rrt_master, rrf_master"
   ]
  },
  {
   "cell_type": "code",
   "execution_count": 13,
   "id": "bbbe0021",
   "metadata": {},
   "outputs": [],
   "source": [
    "def shift_row_to_top(df, index_to_shift):\n",
    "    idx = df.index.tolist()\n",
    "    idx.remove(index_to_shift)\n",
    "    df = df.reindex([index_to_shift] + idx)\n",
    "    return df"
   ]
  },
  {
   "cell_type": "code",
   "execution_count": 14,
   "id": "c1c45417",
   "metadata": {},
   "outputs": [],
   "source": [
    "def table_extratcor(tables, headers):\n",
    "    df_result_table =''\n",
    "    result_tables = []\n",
    "    for table in tables:\n",
    "        df_table = table.df\n",
    "        search = df_table.where(df_table==headers[0]).dropna(how='all').dropna(axis=1)\n",
    "        inx = list(search.index)\n",
    "        if(inx):\n",
    "            inx= inx[0]\n",
    "            new_header = df_table.iloc[inx]\n",
    "            new_start_inx = inx+1\n",
    "            df_table = df_table[new_start_inx:] \n",
    "            df_table.columns = new_header\n",
    "            df_table = df_table[headers]\n",
    "            result_tables.append(df_table)\n",
    "        else:\n",
    "            continue\n",
    "    df_result_table = pd.concat(result_tables, ignore_index=True)\n",
    "    return df_result_table"
   ]
  },
  {
   "cell_type": "code",
   "execution_count": 15,
   "id": "92c22526",
   "metadata": {},
   "outputs": [],
   "source": [
    "def fill_rs_sheet(output_sheet, df_area_table, df_peak_table, sample_input_list):\n",
    "    average_area = float(df_area_table[\"Area\"][df_area_table[\"Title\"] == \"Average\"].values.tolist()[0])\n",
    "    area_input = list(df_area_table['Area'])\n",
    "    \n",
    "    #poject name\n",
    "    setOutCell(output_sheet, 2, 3, '')\n",
    "    #Date\n",
    "    setOutCell(output_sheet, 2, 4, '')\n",
    "    #Method\n",
    "    setOutCell(output_sheet, 2, 5, '')\n",
    "    # WS ID No.\n",
    "    setOutCell(output_sheet, 1, 9, '')\n",
    "    # potency\n",
    "    setOutCell(output_sheet, 3, 9, input_list[-1])\n",
    "    # use before date\n",
    "    setOutCell(output_sheet, 5, 9, '')\n",
    "    # Average area\n",
    "    setOutCell(output_sheet, 7, 9, average_area)\n",
    "    # std_wt\n",
    "    setOutCell(output_sheet, 2, 10, input_list[0])\n",
    "    #  v1\n",
    "    setOutCell(output_sheet, 2, 11, input_list[1])\n",
    "    # v2\n",
    "    setOutCell(output_sheet, 4, 10, input_list[2])\n",
    "    #  v3\n",
    "    setOutCell(output_sheet, 4, 11, input_list[3])\n",
    "    #  v4\n",
    "    setOutCell(output_sheet, 6, 10,  input_list[4])\n",
    "    # v5\n",
    "    setOutCell(output_sheet, 6, 11, input_list[5])\n",
    "    # v6\n",
    "    setOutCell(output_sheet, 8, 10, input_list[6])\n",
    "    # v7\n",
    "    setOutCell(output_sheet, 8, 11, input_list[7])\n",
    "    # factor\n",
    "    setOutCell(output_sheet, 9, 10, input_list[8])\n",
    "    # factor\n",
    "    setOutCell(output_sheet, 9, 11, input_list[9])\n",
    "    # AR NO\n",
    "    setOutCell(output_sheet, 1, 14, '')\n",
    "    # Batch NO\n",
    "    setOutCell(output_sheet, 3, 14, '')\n",
    "    # Condition\n",
    "    setOutCell(output_sheet, 4, 14, '')\n",
    "    # Label Claim\n",
    "    setOutCell(output_sheet, 5, 14, sample_input_list[8])\n",
    "    # per unit\n",
    "    setOutCell(output_sheet, 7, 14, sample_input_list[9])\n",
    "    # sample_wt\n",
    "    setOutCell(output_sheet, 2, 15, sample_input_list[0])\n",
    "    #  v1\n",
    "    setOutCell(output_sheet, 2, 16, sample_input_list[1])\n",
    "    # v2\n",
    "    setOutCell(output_sheet, 4, 15, sample_input_list[2])\n",
    "    #  v3\n",
    "    setOutCell(output_sheet, 4, 16, sample_input_list[3])\n",
    "    #  v4\n",
    "    setOutCell(output_sheet, 6, 15, sample_input_list[4])\n",
    "    # v5\n",
    "    setOutCell(output_sheet, 6, 16, sample_input_list[5])\n",
    "    # v6\n",
    "    setOutCell(output_sheet, 8, 15, sample_input_list[6])\n",
    "    # v7\n",
    "    setOutCell(output_sheet, 8, 16, sample_input_list[7])\n",
    "#     areas\n",
    "    setOutCell(output_sheet, 12, 5, area_input[0])\n",
    "    setOutCell(output_sheet, 12, 6, area_input[1])\n",
    "    setOutCell(output_sheet, 12, 7, area_input[2])\n",
    "    setOutCell(output_sheet, 12, 8, area_input[3])\n",
    "    setOutCell(output_sheet, 12, 9, area_input[4])\n",
    "    setOutCell(output_sheet, 12, 10, area_input[5])\n",
    "    setOutCell(output_sheet, 12, 11, area_input[6])\n",
    "    setOutCell(output_sheet, 12, 12, area_input[7])\n",
    "    setOutCell(output_sheet, 12, 13, area_input[8])\n",
    "#   Impurity table  \n",
    "    table_row = 20\n",
    "    for index, row in df_peak_table.iterrows():\n",
    "        if(table_row > 60):\n",
    "            break\n",
    "        setOutCell(output_sheet, 1, table_row, row[0])\n",
    "        setOutCell(output_sheet, 2, table_row, row[1])\n",
    "        setOutCell(output_sheet, 3, table_row, row[2])\n",
    "        setOutCell(output_sheet, 4, table_row, row[3])\n",
    "        setOutCell(output_sheet, 5, table_row, row[4])\n",
    "        setOutCell(output_sheet, 6, table_row, row[5])\n",
    "        table_row +=1\n",
    "\n",
    "    sum_of_impurities = round(df_peak_table[\"% w/w\"].sum(), ndigits=2)\n",
    "    setOutCell(output_sheet, 6, 62, sum_of_impurities)\n"
   ]
  },
  {
   "cell_type": "code",
   "execution_count": 16,
   "id": "cf06234e",
   "metadata": {},
   "outputs": [],
   "source": [
    "def initiate_report_creation(compound, input_lits):\n",
    "    sample_wt = df_sample_prep['vials'][df_sample_prep[\"Compound\"].str.contains(compound, flags = re.IGNORECASE)].values.tolist()[0]\n",
    "    sample_v1 = df_sample_prep['v1'][df_sample_prep[\"Compound\"].str.contains(compound, flags = re.IGNORECASE)].values.tolist()[0]\n",
    "    sample_v2 = df_sample_prep['v2'][df_sample_prep[\"Compound\"].str.contains(compound, flags = re.IGNORECASE)].values.tolist()[0]\n",
    "    sample_v3 = df_sample_prep['v3'][df_sample_prep[\"Compound\"].str.contains(compound, flags = re.IGNORECASE)].values.tolist()[0]\n",
    "    sample_v4 = df_sample_prep['v4'][df_sample_prep[\"Compound\"].str.contains(compound, flags = re.IGNORECASE)].values.tolist()[0]\n",
    "    sample_v5 = df_sample_prep['v5'][df_sample_prep[\"Compound\"].str.contains(compound, flags = re.IGNORECASE)].values.tolist()[0]\n",
    "    sample_v6 = df_sample_prep['v6'][df_sample_prep[\"Compound\"].str.contains(compound, flags = re.IGNORECASE)].values.tolist()[0]\n",
    "    sample_v7 = df_sample_prep['v7'][df_sample_prep[\"Compound\"].str.contains(compound, flags = re.IGNORECASE)].values.tolist()[0]\n",
    "    label_claim = df_sample_prep['label claim'][df_sample_prep[\"Compound\"].str.contains(compound, flags = re.IGNORECASE)].values.tolist()[0]\n",
    "    unit = df_sample_prep['per unit'][df_sample_prep[\"Compound\"].str.contains(compound, flags = re.IGNORECASE)].values.tolist()[0]\n",
    "\n",
    "    constant_1 = (input_list[0]/input_list[1]) * (input_list[2]/input_list[3]) * (input_list[4]/input_list[5])*(input_list[6]/input_list[7]) * (input_list[8]/input_list[9])\n",
    "    constant_2 = (sample_v1/sample_wt) * (sample_v3/sample_v2) * (sample_v5/sample_v4) * (sample_v7/sample_v6) * (input_list[10]/label_claim)\n",
    "\n",
    "    # peak table extratcion\n",
    "    tables = camelot.read_pdf(chrom_input, pages= 'all',flavor='stream')\n",
    "    df_peak_table = table_extratcor(tables, chrom_headers)\n",
    "    inx_to_shift = df_peak_table[df_peak_table[\"Name\"].str.contains(compound, flags = re.IGNORECASE)].index[0]\n",
    "    df_peak_table = shift_row_to_top(df_peak_table, inx_to_shift)\n",
    "    cond_1 = df_peak_table[\"Name\"] == ''\n",
    "    cond_2 = df_peak_table[\"Name\"] == np.nan\n",
    "    inxs_to_remove = df_peak_table[cond_1 | cond_2].index\n",
    "    df_peak_table = df_peak_table.drop(inxs_to_remove)\n",
    "\n",
    "    # area table extraction\n",
    "    tables = camelot.read_pdf(area_input, pages= 'all',flavor='stream')\n",
    "    df_area_table = table_extratcor(tables, area_headers)\n",
    "    df_area_table = df_area_table[['Title', 'Area']]\n",
    "    average_area = float(df_area_table[\"Area\"][df_area_table[\"Title\"] == \"Average\"].values.tolist()[0])\n",
    "\n",
    "    # impurity calculation\n",
    "    impurities, rrts, rrfs = calc_results(df_peak_table, compound, average_area, constant_1, constant_2, unit)\n",
    "    df_peak_table['RRT'] = rrts\n",
    "    df_peak_table['RRF'] = rrfs\n",
    "    df_peak_table[\"% w/w\"] = impurities\n",
    "    df_peak_table = df_peak_table[['Name', 'Ret. Time','RRT', 'RRF', 'Area', '% w/w']]\n",
    "\n",
    "    # writing to output sheet\n",
    "    sample_input_list = [sample_wt, sample_v1, sample_v2, sample_v3, sample_v4, sample_v5, sample_v6, sample_v7, label_claim, unit]\n",
    "    fill_rs_sheet(rs_template_sheet, df_area_table, df_peak_table, sample_input_list)\n",
    "\n",
    "    "
   ]
  },
  {
   "cell_type": "code",
   "execution_count": 17,
   "id": "09869d94",
   "metadata": {},
   "outputs": [
    {
     "name": "stdout",
     "output_type": "stream",
     "text": [
      "ignoring Impurity-B\n",
      "Report saved successfully, check Output folder.\n"
     ]
    }
   ],
   "source": [
    "# Bumetanide\n",
    "# Acyclovir\n",
    "# Famotidine\n",
    "# ketorolacTromethamine\n",
    "# LabetalolHCl\n",
    "# input_list = [20.48,20,1,100,5,20,1,1,1,1,99.0]\n",
    "\n",
    "# compound = input(\"Enter the compund name [As mentioned in the chromatogram] \")\n",
    "compound = 'Acyclovir'\n",
    "input_list = [50.43,100,5,50,5,50,1,1,1,1,94.4]\n",
    "# input data sources\n",
    "df_rrf = pd.read_excel(os.path.join(os.getcwd(), 'data', 'Templates', 'RRF-template.xlsx'))\n",
    "df_sample_prep = pd.read_excel(os.path.join(os.getcwd(), 'data', 'Templates', 'Sample Preparation.xlsx'))\n",
    "chrom_input = os.path.join(os.getcwd(), \"data\", \"chromatograms\", \"{}-chromatogram.pdf\".format(compound))\n",
    "area_input = os.path.join(os.getcwd(), \"data\", \"Areas\", \"{}-areas.pdf\".format(compound))\n",
    "\n",
    "# input_list = [0]*11\n",
    "# input_list[0] = float(input(\"Enter the Weight taken \"))\n",
    "# input_list[1] = float(input(\"Enter the standard preparation v1 \")) \n",
    "# input_list[2] = float(input(\"Enter the standard preparation v2 \")) \n",
    "# input_list[3] = float(input(\"Enter the standard preparation v3 \")) \n",
    "# input_list[4] = float(input(\"Enter the standard preparation v4 \")) \n",
    "# input_list[5] = float(input(\"Enter the standard preparation v5 \")) \n",
    "# input_list[6] = float(input(\"Enter the standard preparation v6 \")) \n",
    "# input_list[7] = float(input(\"Enter the standard preparation v7 \")) \n",
    "# input_list[8] = float(input(\"Enter the standard preparation factor 1 \")) \n",
    "# input_list[9] = float(input(\"Enter the standard preparation factor 2 \")) \n",
    "# input_list[10] = float(input(\"Enter the standard preparation Potency \")) \n",
    " \n",
    "\n",
    "chrom_headers = ['Peak#','Name','Ret. Time','Area','Area%','RRT']\n",
    "area_headers = ['Title', 'Ret. Time', 'Area', 'Area%', 'NTP', 'Tailing Factor']\n",
    "\n",
    "\n",
    "\n",
    "# Output sheet\n",
    "rs_template_input = xlrd.open_workbook(os.path.join(os.getcwd(), \"data\", \"Templates\",'RS-template.xls'), formatting_info=True)\n",
    "rs_template = xlutils.copy.copy(rs_template_input)\n",
    "rs_template_sheet = rs_template.get_sheet(0)\n",
    "\n",
    "initiate_report_creation(compound, input_list)\n",
    "rs_template.save(os.path.join(os.getcwd(), \"data\", 'output', '{}-RS.xls'.format(compound)))\n",
    "print(\"Report saved successfully, check Output folder.\")"
   ]
  },
  {
   "cell_type": "code",
   "execution_count": null,
   "id": "f9dab804",
   "metadata": {},
   "outputs": [],
   "source": [
    "compound = 'Bumetanide'\n",
    "chrom_input = os.path.join(os.getcwd(), \"data\", \"chromatograms\", \"{}-chromatogram.pdf\".format(compound))\n",
    "tables = camelot.read_pdf(chrom_input, pages= 'all',flavor='stream')"
   ]
  },
  {
   "cell_type": "code",
   "execution_count": null,
   "id": "dec2831b",
   "metadata": {},
   "outputs": [],
   "source": [
    "tables"
   ]
  },
  {
   "cell_type": "code",
   "execution_count": null,
   "id": "be2255e8",
   "metadata": {},
   "outputs": [],
   "source": [
    "rs_template_input = xlrd.open_workbook(os.path.join(os.getcwd(), \"data\", \"Templates\",'RS-template.xls'), formatting_info=True)\n",
    "rs_template = xlutils.copy.copy(rs_template_input)\n",
    "new_book = Workbook()\n",
    "w_sheet_1 = deepcopy(rs_template.get_sheet(0))\n",
    "w_sheet_2 = deepcopy(rs_template.get_sheet(0))\n",
    "setOutCell(w_sheet_1, 2, 3, 'project 1')\n",
    "setOutCell(w_sheet_2, 2, 3, 'project 2')\n",
    "\n",
    "new_book._Workbook__worksheets = [w_sheet_1,w_sheet_2]\n",
    "new_book.save(os.path.join(os.getcwd(), \"data\", 'test.xls'))"
   ]
  },
  {
   "cell_type": "code",
   "execution_count": null,
   "id": "ac0c2750",
   "metadata": {},
   "outputs": [],
   "source": [
    "rs_template_1.add_sheet(\"sheet 5\")\n",
    "rs_template_1.save(os.path.join(os.getcwd(), \"data\", 'test.xls'))"
   ]
  },
  {
   "cell_type": "code",
   "execution_count": null,
   "id": "0248d412",
   "metadata": {},
   "outputs": [],
   "source": [
    "rs_template_input = xlrd.open_workbook(os.path.join(os.getcwd(), \"data\", \"Templates\",'RS-template.xls'), formatting_info=True)\n",
    "rs_template = xlutils.copy.copy(rs_template_input)\n",
    "rs_template_sheet_1 = rs_copy_1.get_sheet(0)\n",
    "rs_template_sheet_2 = rs_copy_2.get_sheet(0)\n",
    "rs_template_sheet_2 = xlutils.copy.copy(rs_template_input).get_sheet(0)\n",
    "# rs_template_sheet_2 = rs_template.get_sheet(1)\n",
    "# rs_template_sheet_2 = rs_template_sheet_1\n",
    "rs_template.save(os.path.join(os.getcwd(), \"data\", 'test.xls'))\n"
   ]
  },
  {
   "cell_type": "code",
   "execution_count": null,
   "id": "9dfcb3f0",
   "metadata": {},
   "outputs": [],
   "source": [
    "rs_template_input = xlrd.open_workbook(os.path.join(os.getcwd(), \"data\", \"Templates\",'RS-template.xls'), formatting_info=True)\n",
    "rs_copy_1 = xlutils.copy.copy(rs_template_input)\n",
    "rs_copy_2 = xlutils.copy.copy(rs_template_input)\n",
    "rs_template_sheet_1 = rs_copy_1.get_sheet(0)\n",
    "rs_template_sheet_2 = rs_copy_2.get_sheet(0)\n",
    "setOutCell(rs_template_sheet_1, 2, 3, 'project 1')\n",
    "setOutCell(rs_template_sheet_2, 2, 3, 'project 2')\n",
    "new_book = Workbook()\n",
    "\n",
    "rs_copy_1.save(os.path.join(os.getcwd(), \"data\", 'multi-test-01.xls'))\n",
    "rs_copy_2.save(os.path.join(os.getcwd(), \"data\", 'multi-test-02.xls'))"
   ]
  },
  {
   "cell_type": "code",
   "execution_count": null,
   "id": "999d4150",
   "metadata": {
    "scrolled": true
   },
   "outputs": [],
   "source": [
    "paths = [os.path.join(os.getcwd(), \"data\", 'multi-test-01.xls'),\n",
    " os.path.join(os.getcwd(), \"data\", 'multi-test-02.xls')]\n",
    "merge_all_to_a_book(paths, os.path.join(os.getcwd(), \"data\", 'multi-test.xls'))"
   ]
  },
  {
   "cell_type": "code",
   "execution_count": null,
   "id": "50f59e5e",
   "metadata": {},
   "outputs": [],
   "source": [
    "df_total = pd.DataFrame()\n",
    "excel_file = pd.ExcelFile(paths[0])\n",
    "df = excel_file.parse(sheet_name = 0)\n",
    "df_total = df_total.append(df)\n",
    "df_total.to_excel(os.path.join(os.getcwd(), \"data\", 'multi-test.xls'))"
   ]
  },
  {
   "cell_type": "code",
   "execution_count": null,
   "id": "3f10e3df",
   "metadata": {
    "scrolled": true
   },
   "outputs": [],
   "source": [
    "df_file_1"
   ]
  },
  {
   "cell_type": "code",
   "execution_count": null,
   "id": "6080d285",
   "metadata": {},
   "outputs": [],
   "source": [
    "os.listdir(os.path.join(os.getcwd(), \"data\", \"RS\", \"Acyclovir\"))"
   ]
  },
  {
   "cell_type": "code",
   "execution_count": 39,
   "id": "1a50ee68",
   "metadata": {},
   "outputs": [],
   "source": [
    "import glob"
   ]
  },
  {
   "cell_type": "code",
   "execution_count": 40,
   "id": "19e409fc",
   "metadata": {},
   "outputs": [],
   "source": [
    "compound ='Acyclovir'\n",
    "area_input = os.path.join(os.getcwd(), \"data\", \"RS\", compound, \"{}-areas.pdf\".format(compound))\n",
    "chrom_inputs = glob.glob(os.path.join(os.getcwd(), \"data\", \"RS\", compound, '*.pdf'))\n",
    "chrom_inputs.remove(area_input)"
   ]
  },
  {
   "cell_type": "code",
   "execution_count": null,
   "id": "da23be36",
   "metadata": {},
   "outputs": [],
   "source": [
    "os.listdir(os.path.join(os.getcwd(), \"data\", \"RS\", compound))"
   ]
  },
  {
   "cell_type": "code",
   "execution_count": null,
   "id": "8b7003dc",
   "metadata": {},
   "outputs": [],
   "source": [
    "chrom_input = os.path.join(os.getcwd(), \"data\", \"chromatograms\", \"Acyclovir-chromatogram-01.pdf\".format(compound))\n",
    "tables = camelot.read_pdf(chrom_input, pages= 'all',flavor='stream')"
   ]
  },
  {
   "cell_type": "code",
   "execution_count": null,
   "id": "ed9d9bc3",
   "metadata": {},
   "outputs": [],
   "source": [
    "df_table = tables[1].df"
   ]
  },
  {
   "cell_type": "code",
   "execution_count": null,
   "id": "3c3adfa1",
   "metadata": {},
   "outputs": [],
   "source": [
    "headers = ['Peak#','Name','Ret. Time','Area','Area%','RRT']\n",
    "search = df_table.where(df_table==headers[0]).dropna(how='all').dropna(axis=1)"
   ]
  },
  {
   "cell_type": "code",
   "execution_count": null,
   "id": "0765d2a1",
   "metadata": {},
   "outputs": [],
   "source": [
    "df_table.iloc[search.index].values.tolist()"
   ]
  },
  {
   "cell_type": "code",
   "execution_count": null,
   "id": "3c902c92",
   "metadata": {},
   "outputs": [],
   "source": [
    "tables[1].df"
   ]
  },
  {
   "cell_type": "code",
   "execution_count": null,
   "id": "6fabf4fc",
   "metadata": {},
   "outputs": [],
   "source": []
  }
 ],
 "metadata": {
  "kernelspec": {
   "display_name": "Python 3",
   "language": "python",
   "name": "python3"
  },
  "language_info": {
   "codemirror_mode": {
    "name": "ipython",
    "version": 3
   },
   "file_extension": ".py",
   "mimetype": "text/x-python",
   "name": "python",
   "nbconvert_exporter": "python",
   "pygments_lexer": "ipython3",
   "version": "3.8.8"
  }
 },
 "nbformat": 4,
 "nbformat_minor": 5
}
